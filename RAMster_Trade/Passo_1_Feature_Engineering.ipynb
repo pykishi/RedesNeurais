{
 "cells": [
  {
   "cell_type": "code",
   "execution_count": null,
   "id": "72987f29",
   "metadata": {
    "id": "72987f29"
   },
   "outputs": [],
   "source": [
    "import numpy as np\n",
    "from simple_robot import feature_eng, api_get, api_post, get_result\n",
    "import fastparquet\n",
    "from feature_engineering import rsi, macd, bollinger_bands, momentum, get_headlines\n",
    "import requests\n",
    "import os\n",
    "import pandas as pd\n",
    "import matplotlib.pyplot as plt\n",
    "from numpy import array\n",
    "import datetime\n",
    "from datetime import datetime"
   ]
  },
  {
   "cell_type": "markdown",
   "id": "590ee801",
   "metadata": {
    "id": "590ee801"
   },
   "source": [
    "### Carregando dados"
   ]
  },
  {
   "cell_type": "code",
   "execution_count": null,
   "id": "bcb216a2",
   "metadata": {
    "id": "bcb216a2"
   },
   "outputs": [],
   "source": [
    "#df_btc = pd.read_parquet('https://drive.google.com/u/0/uc?id=1K1-mXTk426z8ZvbmWrx8zrbC-C6GxxGg&export=download')\n",
    "#df_doge = pd.read_parquet('https://drive.google.com/u/0/uc?id=17c2r9qbnsxPVxaYukrp6vhTY-CQy8WZa&export=download')\n",
    "df_eth = pd.read_parquet('https://drive.google.com/u/0/uc?id=1b2nqwR11tWWZ8B1R3AXUB_iCuu1oELm6&export=download')\n",
    "#df_eth = api_post('cripto_quotation', {'token': token, 'ticker': 'ETHUSDT'})"
   ]
  },
  {
   "cell_type": "markdown",
   "id": "b1e83488",
   "metadata": {
    "id": "b1e83488"
   },
   "source": [
    "### Analisando amostra com dados de 2021 somente"
   ]
  },
  {
   "cell_type": "code",
   "execution_count": null,
   "id": "2350a9eb",
   "metadata": {
    "id": "2350a9eb"
   },
   "outputs": [],
   "source": [
    "df = df_eth"
   ]
  },
  {
   "cell_type": "code",
   "execution_count": null,
   "id": "93fa65c7",
   "metadata": {
    "id": "93fa65c7"
   },
   "outputs": [],
   "source": [
    "df = df.dropna()\n",
    "df = df[df['datetime'].between('2021-01-01 00:00:00', '2021-12-31 23:59:59')]"
   ]
  },
  {
   "cell_type": "code",
   "execution_count": null,
   "id": "e8954b75",
   "metadata": {
    "id": "e8954b75"
   },
   "outputs": [],
   "source": [
    "df.head(3)"
   ]
  },
  {
   "cell_type": "markdown",
   "id": "35266ebc",
   "metadata": {
    "id": "35266ebc"
   },
   "source": [
    "### Calculando Target"
   ]
  },
  {
   "cell_type": "code",
   "execution_count": null,
   "id": "caa1aa44",
   "metadata": {
    "id": "caa1aa44"
   },
   "outputs": [],
   "source": [
    "# Calculando qual a média de close dos próximos 10min\n",
    "df['forward_average'] = df[::-1]['close'].rolling(10).mean()[::-1].shift(-1)\n",
    "\n",
    "# Target será a diferença percentual do 'forward_average' com o 'close' atual \n",
    "df['target'] = 100*(df['forward_average'] - df['close']) / df['close']\n",
    "\n",
    "df.head(3)\n",
    "# Outra possibilidade: target como a diferença entre o proximo minuto e o atual: df['diff']= -df['close'].diff(-1)"
   ]
  },
  {
   "cell_type": "markdown",
   "id": "37c4f37f",
   "metadata": {
    "id": "37c4f37f"
   },
   "source": [
    "### Calculando variaveis independentes"
   ]
  },
  {
   "cell_type": "code",
   "execution_count": null,
   "id": "02d3d9de",
   "metadata": {
    "id": "02d3d9de"
   },
   "outputs": [],
   "source": [
    "# Return Feature\n",
    "df['return'] = round(df['close'] / df['open'] - 1, 3)\n",
    "# Change Feature\n",
    "# Change of the price from previous day, absolute value\n",
    "df['change'] = (df.close - df.close.shift(1)).fillna(0)\n",
    "# Volatility Feature\n",
    "df['volatility'] = df.close.ewm(21).std()\n",
    "# Momentum\n",
    "df['momentum'] = momentum(df.close, 3)\n",
    "# RSI (Relative Strength Index)\n",
    "df['rsi'] = rsi(df)    \n",
    "# MACD - (Moving Average Convergence/Divergence)\n",
    "df['macd'], df['signal'] = macd(df)\n",
    "# Upper Band and Lower Band for Bollinger Bands\n",
    "df['upper_band'], df['lower_band'] = bollinger_bands(df)\n",
    "df.dropna(inplace=True)"
   ]
  },
  {
   "cell_type": "code",
   "execution_count": null,
   "id": "6dd4459a",
   "metadata": {
    "id": "6dd4459a"
   },
   "outputs": [],
   "source": [
    "# Toda a parte de criação de features está no arquivo simple_robot.py. Aqui apenas chamamos a função. Isso é útil, pois conseguimos usar a mesma função no momento de colocar o robô em produção\n",
    "df = feature_eng(df)\n",
    "df.head(3).T"
   ]
  },
  {
   "cell_type": "markdown",
   "id": "e244771b",
   "metadata": {
    "id": "e244771b"
   },
   "source": [
    "### Salvando o arquivo"
   ]
  },
  {
   "cell_type": "code",
   "execution_count": null,
   "id": "da194078",
   "metadata": {
    "id": "da194078"
   },
   "outputs": [],
   "source": [
    "df.to_parquet('data/eth.parquet', compression='gzip')"
   ]
  },
  {
   "cell_type": "code",
   "execution_count": null,
   "id": "837ac6ba",
   "metadata": {
    "id": "837ac6ba"
   },
   "outputs": [],
   "source": [
    "#df.to_parquet('data/eth_TUDO.parquet', compression='gzip')"
   ]
  }
 ],
 "metadata": {
  "colab": {
   "name": "Passo_1_Feature_Engineering.ipynb",
   "provenance": []
  },
  "kernelspec": {
   "display_name": "Python 3",
   "language": "python",
   "name": "python3"
  },
  "language_info": {
   "codemirror_mode": {
    "name": "ipython",
    "version": 3
   },
   "file_extension": ".py",
   "mimetype": "text/x-python",
   "name": "python",
   "nbconvert_exporter": "python",
   "pygments_lexer": "ipython3",
   "version": "3.8.8"
  }
 },
 "nbformat": 4,
 "nbformat_minor": 5
}
